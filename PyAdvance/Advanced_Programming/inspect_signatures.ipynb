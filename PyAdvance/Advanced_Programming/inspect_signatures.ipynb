{
 "cells": [
  {
   "cell_type": "markdown",
   "id": "529ffec7",
   "metadata": {},
   "source": [
    "### Validate Arguments Passed to a Function Dynamically\n",
    "\n",
    "**Use Case:** You are writing a decorator or dynamic function dispatcher and want to ensure that only valid arguments are passed.\n",
    "\n",
    "**Why it matters:** Prevents runtime errors by pre-validating arguments before calling a function."
   ]
  },
  {
   "cell_type": "code",
   "execution_count": null,
   "id": "9e92d06f",
   "metadata": {},
   "outputs": [
    {
     "name": "stdout",
     "output_type": "stream",
     "text": [
      "Arguments are valid!\n",
      "Arguments are valid!\n",
      "Argument error: too many positional arguments\n"
     ]
    }
   ],
   "source": [
    "import inspect\n",
    "\n",
    "def validate_args(func, *args, **kwargs):\n",
    "    sig = inspect.signature(func)\n",
    "    try:\n",
    "        sig.bind(*args, **kwargs)\n",
    "        print(\"Arguments are valid!\")\n",
    "    except TypeError as e:\n",
    "        print(f\"Argument error: {e}\")\n",
    "\n",
    "def greet(name, age=18):\n",
    "    print(f\"Hello, {name}. Age: {age}\")\n",
    "\n",
    "validate_args(greet, \"Alice\")           \n",
    "validate_args(greet, name=\"Bob\", age=25) \n",
    "validate_args(greet, \"Charlie\", 30, 45)  \n"
   ]
  },
  {
   "cell_type": "markdown",
   "id": "417ab031",
   "metadata": {},
   "source": [
    "### Build Dynamic Wrappers or Decorators\n",
    "**Use Case:** Automatically create wrappers that preserve the function signature for logging, tracing, or modifying behavior.\n",
    "\n",
    "**Why it matters:** You can make decorators that are more flexible and generic."
   ]
  },
  {
   "cell_type": "code",
   "execution_count": 2,
   "id": "f5ef0269",
   "metadata": {},
   "outputs": [
    {
     "name": "stdout",
     "output_type": "stream",
     "text": [
      "Calling add with {'x': 5, 'y': 3}\n"
     ]
    },
    {
     "data": {
      "text/plain": [
       "8"
      ]
     },
     "execution_count": 2,
     "metadata": {},
     "output_type": "execute_result"
    }
   ],
   "source": [
    "import inspect\n",
    "from functools import wraps\n",
    "\n",
    "def log_params(func):\n",
    "    sig = inspect.signature(func)\n",
    "\n",
    "    @wraps(func)\n",
    "    def wrapper(*args, **kwargs):\n",
    "        bound = sig.bind(*args, **kwargs)\n",
    "        bound.apply_defaults()\n",
    "        print(f\"Calling {func.__name__} with {bound.arguments}\")\n",
    "        return func(*args, **kwargs)\n",
    "    \n",
    "    return wrapper\n",
    "\n",
    "@log_params\n",
    "def add(x, y=0):\n",
    "    return x + y\n",
    "\n",
    "add(5, y=3)\n"
   ]
  },
  {
   "cell_type": "markdown",
   "id": "8ff79c36",
   "metadata": {},
   "source": []
  }
 ],
 "metadata": {
  "kernelspec": {
   "display_name": "venv",
   "language": "python",
   "name": "python3"
  },
  "language_info": {
   "codemirror_mode": {
    "name": "ipython",
    "version": 3
   },
   "file_extension": ".py",
   "mimetype": "text/x-python",
   "name": "python",
   "nbconvert_exporter": "python",
   "pygments_lexer": "ipython3",
   "version": "3.13.2"
  }
 },
 "nbformat": 4,
 "nbformat_minor": 5
}
