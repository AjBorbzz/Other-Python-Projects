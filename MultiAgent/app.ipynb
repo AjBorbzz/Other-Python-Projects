{
 "cells": [
  {
   "cell_type": "code",
   "execution_count": null,
   "metadata": {},
   "outputs": [],
   "source": [
    "from crewai import Agent, Task, Crew, LLM\n",
    "import litellm\n",
    "from litellm import AnthropicChatCompletion\n",
    "from utils import get_claude_api_key, get_serper_api_key, pretty_print_result, get_api_key"
   ]
  },
  {
   "cell_type": "code",
   "execution_count": null,
   "metadata": {},
   "outputs": [],
   "source": [
    "# Set variables\n",
    "claude_api_key = get_claude_api_key()\n",
    "serper_api_key = get_serper_api_key()\n",
    "anthropic_model_name = get_api_key(\"ANTHROPIC_MODEL_NAME\")\n",
    "\n",
    "\n",
    "print(claude_api_key)\n",
    "print(serper_api_key)\n",
    "print(anthropic_model_name)"
   ]
  }
 ],
 "metadata": {
  "kernelspec": {
   "display_name": "venv",
   "language": "python",
   "name": "python3"
  },
  "language_info": {
   "codemirror_mode": {
    "name": "ipython",
    "version": 3
   },
   "file_extension": ".py",
   "mimetype": "text/x-python",
   "name": "python",
   "nbconvert_exporter": "python",
   "pygments_lexer": "ipython3",
   "version": "3.11.4"
  }
 },
 "nbformat": 4,
 "nbformat_minor": 2
}
