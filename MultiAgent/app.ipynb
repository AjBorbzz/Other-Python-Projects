{
 "cells": [
  {
   "cell_type": "code",
   "execution_count": 3,
   "metadata": {},
   "outputs": [
    {
     "data": {
      "text/plain": [
       "\"The summer sun beat down on the dusty trail, baking the earth beneath our weary\\nfeet. We'd been hiking for hours, the promise of a cool spring at the summit a\\ndistant mirage. Each step was a struggle, our legs heavy with fatigue. Suddenly,\\na rustle in the undergrowth caught my eye. A small deer, startled by our\\npresence, bounded away, its white tail flashing in the sunlight. It was a\\nfleeting glimpse of the wild, a reminder of the beauty that surrounded us. We\\npressed on, our spirits lifted by the unexpected encounter. Finally, we reached\\nthe summit, rewarded with breathtaking views that stretched for miles. The cool\\nbreeze and the panoramic vista made the arduous climb worthwhile. We sat in\\nsilence, soaking in the tranquility, before beginning the long descent back to\\nthe valley.\""
      ]
     },
     "execution_count": 3,
     "metadata": {},
     "output_type": "execute_result"
    }
   ],
   "source": []
  }
 ],
 "metadata": {
  "kernelspec": {
   "display_name": "venv",
   "language": "python",
   "name": "python3"
  },
  "language_info": {
   "codemirror_mode": {
    "name": "ipython",
    "version": 3
   },
   "file_extension": ".py",
   "mimetype": "text/x-python",
   "name": "python",
   "nbconvert_exporter": "python",
   "pygments_lexer": "ipython3",
   "version": "3.11.4"
  }
 },
 "nbformat": 4,
 "nbformat_minor": 2
}
